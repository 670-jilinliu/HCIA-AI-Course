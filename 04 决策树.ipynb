{
 "cells": [
  {
   "cell_type": "markdown",
   "metadata": {},
   "source": [
    "导入依赖"
   ]
  },
  {
   "cell_type": "code",
   "execution_count": 1,
   "metadata": {},
   "outputs": [],
   "source": [
    "import pandas as pd\n",
    "import numpy as np\n",
    "from sklearn import tree\n",
    "import pydotplus"
   ]
  },
  {
   "cell_type": "markdown",
   "metadata": {},
   "source": [
    "定义函数，生成决策树"
   ]
  },
  {
   "cell_type": "code",
   "execution_count": 2,
   "metadata": {},
   "outputs": [],
   "source": [
    "# 生成决策树\n",
    "def createTree(trainingData):\n",
    "    data = trainingData.iloc[:, :-1] # 特征矩阵\n",
    "    labels = trainingData.iloc[:, -1] # 标签\n",
    "    trainedTree = tree.DecisionTreeClassifier(criterion='entropy') # 分类决策树\n",
    "    trainedTree.fit(data, labels) # 训练\n",
    "    return trainedTree"
   ]
  },
  {
   "cell_type": "markdown",
   "metadata": {},
   "source": [
    "定义函数，保存生成的树图"
   ]
  },
  {
   "cell_type": "code",
   "execution_count": 3,
   "metadata": {},
   "outputs": [],
   "source": [
    "def showTree2pdf(trainedTree, filename):\n",
    "    dot_data = tree.export_graphviz(trainedTree, out_file=None) # 将树导出为 Graphviz 格式\n",
    "    graph = pydotplus.graph_from_dot_data(dot_data)\n",
    "    graph.write_pdf(filename) # 保存树图到本地，格式为 pdf"
   ]
  },
  {
   "cell_type": "markdown",
   "metadata": {},
   "source": [
    "定义函数，用于生成向量化数据\n",
    "函数中，通过 pd.Categorical(list).codes 可以得到原始数据对应的序号列表，从而将类别信息转化成数值信息。"
   ]
  },
  {
   "cell_type": "code",
   "execution_count": 4,
   "metadata": {},
   "outputs": [],
   "source": [
    "def data2vector(data):\n",
    "    names = data.columns[:-1]\n",
    "    for i in names:\n",
    "        col = pd.Categorical(data[i])\n",
    "        data[i] = col.codes\n",
    "    return data"
   ]
  },
  {
   "cell_type": "markdown",
   "metadata": {},
   "source": [
    "调用函数进行预测"
   ]
  },
  {
   "cell_type": "code",
   "execution_count": 5,
   "metadata": {},
   "outputs": [],
   "source": [
    "data = pd.read_table(\"tennis.txt\", header=None, sep=\"\\t\")  # 读取训练数据\n",
    "trainingvec = data2vector(data)  # 向量化数据\n",
    "decisionTree = createTree(trainingvec)  # 创建决策树\n",
    "showTree2pdf(decisionTree, \"tennis.pdf\")  # 保存决策树图  "
   ]
  },
  {
   "cell_type": "markdown",
   "metadata": {},
   "source": [
    "新样本预测"
   ]
  },
  {
   "cell_type": "code",
   "execution_count": 6,
   "metadata": {},
   "outputs": [
    {
     "name": "stdout",
     "output_type": "stream",
     "text": [
      "['否']\n"
     ]
    }
   ],
   "source": [
    "testVec = [0, 0, 1, 1]  # 天气晴、气温冷、湿度高、风力强\n",
    "print(decisionTree.predict(np.array(testVec).reshape(1, -1)))  # 预测"
   ]
  }
 ],
 "metadata": {
  "kernelspec": {
   "display_name": "PyTorch-1.8",
   "language": "python",
   "name": "pytorch-1.8"
  },
  "language_info": {
   "codemirror_mode": {
    "name": "ipython",
    "version": 3
   },
   "file_extension": ".py",
   "mimetype": "text/x-python",
   "name": "python",
   "nbconvert_exporter": "python",
   "pygments_lexer": "ipython3",
   "version": "3.7.10"
  }
 },
 "nbformat": 4,
 "nbformat_minor": 4
}
