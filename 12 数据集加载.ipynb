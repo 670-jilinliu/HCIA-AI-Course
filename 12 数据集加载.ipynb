{
 "cells": [
  {
   "cell_type": "markdown",
   "metadata": {},
   "source": [
    "加载 MINIST 数据集"
   ]
  },
  {
   "cell_type": "code",
   "execution_count": null,
   "metadata": {},
   "outputs": [],
   "source": [
    "import os\n",
    "import mindspore.dataset as ds\n",
    "import matplotlib.pyplot as plt\n",
    "\n",
    "dataset_dir = \"./MINIST/train\"  # 数据集路径\n",
    "# 从 mnist 数据集读取3张图片\n",
    "mnist_dataset = ds.MnistDataset(dataset_dir, num_samples=3)\n",
    "# 查看图像，设置图像大小\n",
    "plt.figure(figsize=(8, 8))\n",
    "\n",
    "# 打印 3 张子图\n",
    "for i, dic in enumerate(mnist_dataset.create_dict_iterator(output_numpy=True)):\n",
    "    plt.subplot(3, 3, i + 1)\n",
    "    plt.imshow(dic[\"image\"][:, :, 0])\n",
    "    plt.axis(\"off\")\n",
    "\n",
    "plt.show()"
   ]
  },
  {
   "cell_type": "markdown",
   "metadata": {},
   "source": [
    "自定义数据集"
   ]
  },
  {
   "cell_type": "code",
   "execution_count": null,
   "metadata": {},
   "outputs": [],
   "source": [
    "import numpy as np\n",
    "np.random.seed(58)"
   ]
  },
  {
   "cell_type": "code",
   "execution_count": null,
   "metadata": {},
   "outputs": [],
   "source": [
    "class DatasetGenerator:\n",
    "    # 实例化数据集对象时，__init__函数被调用，用户可以在此进行数据初始化等操作\n",
    "    def __init__(self) -> None:\n",
    "        self.data = np.random.sample((5, 2))\n",
    "        self.label = np.random.sample((5, 1))\n",
    "\n",
    "    # 定义数据集类的__getitem__函数，使其支持随机访问，能够根据给定的索引值index，获取数据集中的数据并返回。\n",
    "    def __getitem__(self, index):\n",
    "        return self.data[index], self.label[index]\n",
    "\n",
    "    # 定义数据集类的__len__函数，返回数据集的样本数量。\n",
    "    def __len__(self):\n",
    "        return len(self.data)"
   ]
  },
  {
   "cell_type": "code",
   "execution_count": null,
   "metadata": {},
   "outputs": [],
   "source": [
    "# 定义数据集类后，就可以通过GeneratorDataset接口按照用户定义的方式加载并访问数据集样本\n",
    "dataset_generator = DatasetGenerator()\n",
    "dataset = ds.GeneratorDataset(dataset_generator, [\"data\", \"label\"], shuffle=False)\n",
    "# 通过 create_dict_iterator 方法获取数据\n",
    "for data in dataset.create_dict_iterator():\n",
    "    print(\"{}\".format(data[\"data\"]), \"{}\".format(data[\"label\"]))"
   ]
  },
  {
   "cell_type": "markdown",
   "metadata": {},
   "source": [
    "数据增强"
   ]
  },
  {
   "cell_type": "code",
   "execution_count": null,
   "metadata": {},
   "outputs": [],
   "source": [
    "ds.config.set_seed(58)\n",
    "\n",
    "# 随机打乱数据顷序，buffer_size表示数据集中进行shuffle操作的缓存区的大小。\n",
    "dataset = dataset.shuffle(buffer_size=10)\n",
    "\n",
    "# 对数据集进行分批，batch_size表示每组包含的数据个数，现设置每组包含2个数据。\n",
    "dataset = dataset.batch(batch_size=2)\n",
    "\n",
    "for data in dataset.create_dict_iterator():\n",
    "    print(\"data: {}\".format(data[\"data\"]))\n",
    "    print(\"label: {}\".format(data[\"label\"]))"
   ]
  },
  {
   "cell_type": "code",
   "execution_count": null,
   "metadata": {},
   "outputs": [],
   "source": [
    "import matplotlib.pyplot as plt\n",
    "\n",
    "from mindspore.dataset.vision import Inter\n",
    "import mindspore.dataset.vision.c_transforms as c_vision\n",
    "\n",
    "DATA_DIR = \"./MINIST/train\"\n",
    "# 取出6个样本\n",
    "mnist_dataset = ds.MnistDataset(DATA_DIR, num_samples=6, shuffle=False)\n",
    "# 查看数据原图\n",
    "mnist_it = mnist_dataset.create_dict_iterator()\n",
    "data = next(mnist_it)\n",
    "plt.imshow(data[\"image\"].asnumpy().squeeze(), cmap=plt.cm.gray)\n",
    "plt.title(data[\"label\"].asnumpy(), fontsize=20)\n",
    "plt.show()"
   ]
  },
  {
   "cell_type": "code",
   "execution_count": null,
   "metadata": {},
   "outputs": [],
   "source": [
    "resize_op = c_vision.Resize((40, 40), interpolation=Inter.LINEAR)  # 定义resize操作\n",
    "crop_op = c_vision.RandomCrop(28)\n",
    "transforms_list = [resize_op, crop_op]\n",
    "mnist_dataset = mnist_dataset.map(operations=transforms_list, input_columns=[\"image\"])\n",
    "mnist_dataset = mnist_dataset.create_dict_iterator()\n",
    "data = next(mnist_dataset)\n",
    "plt.imshow(data[\"image\"].asnumpy().squeeze(), cmap=plt.cm.gray)\n",
    "plt.title(data[\"label\"].asnumpy(), fontsize=20)\n",
    "plt.show()"
   ]
  }
 ],
 "metadata": {
  "language_info": {
   "name": "python"
  },
  "orig_nbformat": 4
 },
 "nbformat": 4,
 "nbformat_minor": 2
}
