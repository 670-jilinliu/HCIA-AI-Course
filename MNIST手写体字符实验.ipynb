{
 "cells": [
  {
   "cell_type": "markdown",
   "metadata": {},
   "source": [
    "导入 Python 库&模块并配置运行信息"
   ]
  },
  {
   "cell_type": "code",
   "execution_count": 1,
   "metadata": {},
   "outputs": [],
   "source": [
    "# 导入相关依赖库\n",
    "import os\n",
    "from matplotlib import pyplot as plt\n",
    "import numpy as np\n",
    "\n",
    "import mindspore as ms\n",
    "import mindspore.context as context\n",
    "import mindspore.dataset as ds\n",
    "import mindspore.dataset.transforms.c_transforms as C\n",
    "import mindspore.dataset.vision.c_transforms as CV\n",
    "from mindspore.nn.metrics import Accuracy\n",
    "\n",
    "from mindspore import nn\n",
    "from mindspore.train import Model\n",
    "from mindspore.train.callback import (\n",
    "    ModelCheckpoint,\n",
    "    CheckpointConfig,\n",
    "    LossMonitor,\n",
    "    TimeMonitor,\n",
    ")\n",
    "\n",
    "context.set_context(mode=context.GRAPH_MODE, device_target=\"CPU\")"
   ]
  },
  {
   "cell_type": "markdown",
   "metadata": {},
   "source": [
    "数据读取"
   ]
  },
  {
   "cell_type": "code",
   "execution_count": 2,
   "metadata": {},
   "outputs": [
    {
     "name": "stdout",
     "output_type": "stream",
     "text": [
      "训练数据集数量： 60000\n",
      "测试数据集数量： 10000\n",
      "图像长/宽/通道数： (28, 28, 1)\n",
      "一张图像的标签样式： ()\n"
     ]
    }
   ],
   "source": [
    "DATA_DIR_TRAIN = \"MNIST/train\"  # 训练集信息\n",
    "DATA_DIR_TEST = \"MNIST/test\"  # 测试集信息\n",
    "# 读取数据\n",
    "ds_train = ds.MnistDataset(DATA_DIR_TRAIN)\n",
    "ds_test = ds.MnistDataset(DATA_DIR_TEST)\n",
    "# 显示数据集的相关特性\n",
    "print(\"训练数据集数量：\", ds_train.get_dataset_size())\n",
    "print(\"测试数据集数量：\", ds_test.get_dataset_size())\n",
    "image = ds_train.create_dict_iterator().__next__()\n",
    "print(\"图像长/宽/通道数：\", image[\"image\"].shape)\n",
    "print(\"一张图像的标签样式：\", image[\"label\"].shape)"
   ]
  },
  {
   "cell_type": "markdown",
   "metadata": {},
   "source": [
    "数据处理"
   ]
  },
  {
   "cell_type": "code",
   "execution_count": 3,
   "metadata": {},
   "outputs": [],
   "source": [
    "def create_dataset(\n",
    "    training=True,\n",
    "    batch_size=128,\n",
    "    resize=(28, 28),\n",
    "    rescale=1 / 255,\n",
    "    shift=0,\n",
    "    buffer_size=64,\n",
    "):\n",
    "    ds = ms.dataset.MnistDataset(DATA_DIR_TRAIN if training else DATA_DIR_TEST)\n",
    "    # 定义 Map 操作尺寸缩放，归一化和通道变换\n",
    "    resize_op = CV.Resize(resize)\n",
    "    rescale_op = CV.Rescale(rescale, shift)\n",
    "    hwc2chw_op = CV.HWC2CHW()\n",
    "    # 对数据集进行 Map 操作\n",
    "    ds = ds.map(input_columns=\"image\", operations=[rescale_op, resize_op, hwc2chw_op])\n",
    "    ds = ds.map(input_columns=\"label\", operations=C.TypeCast(ms.int32))\n",
    "    # 设定打乱操作参数和 batchsize 大小\n",
    "    ds = ds.shuffle(buffer_size=buffer_size)\n",
    "    ds = ds.batch(batch_size, drop_remainder=True)\n",
    "    return ds"
   ]
  },
  {
   "cell_type": "markdown",
   "metadata": {},
   "source": [
    "样本可视化"
   ]
  },
  {
   "cell_type": "code",
   "execution_count": 4,
   "metadata": {},
   "outputs": [
    {
     "name": "stderr",
     "output_type": "stream",
     "text": [
      "[WARNING] ME(3695:140026106181440,MainProcess):2023-07-12-19:25:35.503.271 [mindspore/dataset/core/validator_helpers.py:806] 'Resize' from mindspore.dataset.vision.c_transforms is deprecated from version 1.8 and will be removed in a future version. Use 'Resize' from mindspore.dataset.vision instead.\n",
      "[WARNING] ME(3695:140026106181440,MainProcess):2023-07-12-19:25:35.503.944 [mindspore/dataset/core/validator_helpers.py:806] 'Rescale' from mindspore.dataset.vision.c_transforms is deprecated from version 1.8 and will be removed in a future version. Use 'Rescale' from mindspore.dataset.vision instead.\n",
      "[WARNING] ME(3695:140026106181440,MainProcess):2023-07-12-19:25:35.504.454 [mindspore/dataset/core/validator_helpers.py:806] 'HWC2CHW' from mindspore.dataset.vision.c_transforms is deprecated from version 1.8 and will be removed in a future version. Use 'HWC2CHW' from mindspore.dataset.vision instead.\n",
      "[WARNING] ME(3695:140026106181440,MainProcess):2023-07-12-19:25:35.504.967 [mindspore/dataset/core/validator_helpers.py:806] 'TypeCast' from mindspore.dataset.transforms.c_transforms is deprecated from version 1.8 and will be removed in a future version. Use 'TypeCast' from mindspore.dataset.transforms instead.\n"
     ]
    },
    {
     "data": {
      "image/png": "[encoded data removed]",
      "text/plain": [
       "<Figure size 1500x500 with 10 Axes>"
      ]
     },
     "metadata": {},
     "output_type": "display_data"
    }
   ],
   "source": [
    "# 显示前10张图片以及对应标签，检查图片是否是正确的数据集\n",
    "ds = create_dataset(training=False)\n",
    "data = ds.create_dict_iterator().__next__()\n",
    "images = data[\"image\"].asnumpy()\n",
    "labels = data[\"label\"].asnumpy()\n",
    "plt.figure(figsize=(15, 5))\n",
    "for i in range(1, 11):\n",
    "    plt.subplot(2, 5, i)\n",
    "    plt.imshow(np.squeeze(images[i]))\n",
    "    plt.title(\"Number: %s\" % labels[i])\n",
    "    plt.xticks([])\n",
    "plt.show()"
   ]
  },
  {
   "cell_type": "markdown",
   "metadata": {},
   "source": [
    "定义网络"
   ]
  },
  {
   "cell_type": "code",
   "execution_count": 5,
   "metadata": {},
   "outputs": [],
   "source": [
    "# 创建模型。模型包括3个全连接层，最后输出层使用softmax进行多分类，并分成 (0-9) 10类\n",
    "class ForwardNN(nn.Cell):\n",
    "    def __init__(self):\n",
    "        super(ForwardNN, self).__init__()\n",
    "        self.flatten = nn.Flatten()\n",
    "        self.fc1 = nn.Dense(784, 512, activation=\"relu\")\n",
    "        self.fc2 = nn.Dense(512, 128, activation=\"relu\")\n",
    "        self.fc3 = nn.Dense(128, 10, activation=None)\n",
    "\n",
    "    def construct(self, input_x):\n",
    "        output = self.flatten(input_x)\n",
    "        output = self.fc1(output)\n",
    "        output = self.fc2(output)\n",
    "        output = self.fc3(output)\n",
    "        return output"
   ]
  },
  {
   "cell_type": "markdown",
   "metadata": {},
   "source": [
    "定义损失函数及优化器"
   ]
  },
  {
   "cell_type": "code",
   "execution_count": 6,
   "metadata": {},
   "outputs": [],
   "source": [
    "# 创建网络，损失函数，评估指标，优化器，设定相关超参数\n",
    "lr = 0.001\n",
    "num_epochs = 10\n",
    "momentum = 0.9\n",
    "\n",
    "net = ForwardNN()\n",
    "loss = nn.loss.SoftmaxCrossEntropyWithLogits(sparse=True, reduction=\"mean\")\n",
    "metrics = {\"Accuracy\": Accuracy()}\n",
    "opt = nn.Adam(net.trainable_params(), lr)"
   ]
  },
  {
   "cell_type": "markdown",
   "metadata": {},
   "source": [
    "开始训练"
   ]
  },
  {
   "cell_type": "code",
   "execution_count": 7,
   "metadata": {},
   "outputs": [
    {
     "name": "stderr",
     "output_type": "stream",
     "text": [
      "[WARNING] ME(3695:140026106181440,MainProcess):2023-07-12-19:25:36.131.462 [mindspore/dataset/core/validator_helpers.py:806] 'Resize' from mindspore.dataset.vision.c_transforms is deprecated from version 1.8 and will be removed in a future version. Use 'Resize' from mindspore.dataset.vision instead.\n",
      "[WARNING] ME(3695:140026106181440,MainProcess):2023-07-12-19:25:36.132.061 [mindspore/dataset/core/validator_helpers.py:806] 'Rescale' from mindspore.dataset.vision.c_transforms is deprecated from version 1.8 and will be removed in a future version. Use 'Rescale' from mindspore.dataset.vision instead.\n",
      "[WARNING] ME(3695:140026106181440,MainProcess):2023-07-12-19:25:36.132.551 [mindspore/dataset/core/validator_helpers.py:806] 'HWC2CHW' from mindspore.dataset.vision.c_transforms is deprecated from version 1.8 and will be removed in a future version. Use 'HWC2CHW' from mindspore.dataset.vision instead.\n",
      "[WARNING] ME(3695:140026106181440,MainProcess):2023-07-12-19:25:36.133.119 [mindspore/dataset/core/validator_helpers.py:806] 'TypeCast' from mindspore.dataset.transforms.c_transforms is deprecated from version 1.8 and will be removed in a future version. Use 'TypeCast' from mindspore.dataset.transforms instead.\n",
      "[WARNING] ME(3695:140026106181440,MainProcess):2023-07-12-19:25:36.134.002 [mindspore/dataset/core/validator_helpers.py:806] 'Resize' from mindspore.dataset.vision.c_transforms is deprecated from version 1.8 and will be removed in a future version. Use 'Resize' from mindspore.dataset.vision instead.\n",
      "[WARNING] ME(3695:140026106181440,MainProcess):2023-07-12-19:25:36.134.560 [mindspore/dataset/core/validator_helpers.py:806] 'Rescale' from mindspore.dataset.vision.c_transforms is deprecated from version 1.8 and will be removed in a future version. Use 'Rescale' from mindspore.dataset.vision instead.\n",
      "[WARNING] ME(3695:140026106181440,MainProcess):2023-07-12-19:25:36.135.028 [mindspore/dataset/core/validator_helpers.py:806] 'HWC2CHW' from mindspore.dataset.vision.c_transforms is deprecated from version 1.8 and will be removed in a future version. Use 'HWC2CHW' from mindspore.dataset.vision instead.\n",
      "[WARNING] ME(3695:140026106181440,MainProcess):2023-07-12-19:25:36.135.538 [mindspore/dataset/core/validator_helpers.py:806] 'TypeCast' from mindspore.dataset.transforms.c_transforms is deprecated from version 1.8 and will be removed in a future version. Use 'TypeCast' from mindspore.dataset.transforms instead.\n"
     ]
    },
    {
     "name": "stdout",
     "output_type": "stream",
     "text": [
      "============== Starting Training ==============\n",
      "epoch: 1 step: 1875, loss is 0.1444977968931198\n",
      "Train epoch time: 26178.498 ms, per step time: 13.962 ms\n",
      "epoch: 2 step: 1875, loss is 0.3025037944316864\n",
      "Train epoch time: 25802.472 ms, per step time: 13.761 ms\n",
      "epoch: 3 step: 1875, loss is 0.02648531273007393\n",
      "Train epoch time: 25499.442 ms, per step time: 13.600 ms\n",
      "epoch: 4 step: 1875, loss is 0.0033615503925830126\n",
      "Train epoch time: 25696.370 ms, per step time: 13.705 ms\n",
      "epoch: 5 step: 1875, loss is 0.062121350318193436\n",
      "Train epoch time: 24797.239 ms, per step time: 13.225 ms\n",
      "epoch: 6 step: 1875, loss is 0.0014841336524114013\n",
      "Train epoch time: 24707.084 ms, per step time: 13.177 ms\n",
      "epoch: 7 step: 1875, loss is 0.0007281875587068498\n",
      "Train epoch time: 24600.437 ms, per step time: 13.120 ms\n",
      "epoch: 8 step: 1875, loss is 0.0002206545468652621\n",
      "Train epoch time: 25496.630 ms, per step time: 13.598 ms\n",
      "epoch: 9 step: 1875, loss is 0.010729510337114334\n",
      "Train epoch time: 24699.005 ms, per step time: 13.173 ms\n",
      "epoch: 10 step: 1875, loss is 0.0008142818114720285\n",
      "Train epoch time: 24100.783 ms, per step time: 12.854 ms\n"
     ]
    }
   ],
   "source": [
    "# 编译模型\n",
    "model = Model(net, loss, opt, metrics)\n",
    "config_ck = CheckpointConfig(save_checkpoint_steps=1875, keep_checkpoint_max=10)\n",
    "ckpoint_cb = ModelCheckpoint(\n",
    "    prefix=\"checkpoint_net\", directory=\"./ckpt\", config=config_ck\n",
    ")\n",
    "# 生成数据集\n",
    "ds_eval = create_dataset(False, batch_size=32)\n",
    "ds_train = create_dataset(batch_size=32)\n",
    "# 训练模型\n",
    "loss_cb = LossMonitor(per_print_times=1875)\n",
    "time_cb = TimeMonitor(data_size=ds_train.get_dataset_size())\n",
    "print(\"============== Starting Training ==============\")\n",
    "model.train(\n",
    "    num_epochs,\n",
    "    ds_train,\n",
    "    callbacks=[time_cb, loss_cb, ckpoint_cb],\n",
    "    dataset_sink_mode=False,\n",
    ")"
   ]
  },
  {
   "cell_type": "markdown",
   "metadata": {},
   "source": [
    "模型评估"
   ]
  },
  {
   "cell_type": "code",
   "execution_count": 8,
   "metadata": {},
   "outputs": [
    {
     "name": "stdout",
     "output_type": "stream",
     "text": [
      "{'Accuracy': 0.9791666666666666}\n"
     ]
    }
   ],
   "source": [
    "# 使用测试集评估模型，打印总体准确率\n",
    "metrics = model.eval(ds_eval)\n",
    "print(metrics)"
   ]
  }
 ],
 "metadata": {
  "kernelspec": {
   "display_name": "PyTorch-1.8",
   "language": "python",
   "name": "pytorch-1.8"
  },
  "language_info": {
   "codemirror_mode": {
    "name": "ipython",
    "version": 3
   },
   "file_extension": ".py",
   "mimetype": "text/x-python",
   "name": "python",
   "nbconvert_exporter": "python",
   "pygments_lexer": "ipython3",
   "version": "3.7.10"
  }
 },
 "nbformat": 4,
 "nbformat_minor": 4
}
